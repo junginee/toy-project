{
  "nbformat": 4,
  "nbformat_minor": 0,
  "metadata": {
    "colab": {
      "provenance": [],
      "collapsed_sections": []
    },
    "kernelspec": {
      "name": "python3",
      "display_name": "Python 3"
    },
    "language_info": {
      "name": "python"
    }
  },
  "cells": [
    {
      "cell_type": "markdown",
      "source": [
        "**1. 필요한 라이브러리 불러오기**"
      ],
      "metadata": {
        "id": "tnogPphFegAj"
      }
    },
    {
      "cell_type": "code",
      "source": [
        "!\tpip install selenium==4.0.0   \n",
        "!apt-get update \n",
        "!apt install chromium-chromedriver \n",
        "!cp /usr/lib/chromium-browser/chromedriver /usr/bin "
      ],
      "metadata": {
        "id": "Gf49NHLfTeB8",
        "colab": {
          "base_uri": "https://localhost:8080/"
        },
        "outputId": "4defdc1f-9307-4aad-baf9-f7246c61dacf"
      },
      "execution_count": null,
      "outputs": [
        {
          "output_type": "stream",
          "name": "stdout",
          "text": [
            "Looking in indexes: https://pypi.org/simple, https://us-python.pkg.dev/colab-wheels/public/simple/\n",
            "Collecting selenium==4.0.0\n",
            "  Downloading selenium-4.0.0-py3-none-any.whl (954 kB)\n",
            "\u001b[K     |████████████████████████████████| 954 kB 25.3 MB/s \n",
            "\u001b[?25hCollecting trio~=0.17\n",
            "  Downloading trio-0.21.0-py3-none-any.whl (358 kB)\n",
            "\u001b[K     |████████████████████████████████| 358 kB 58.1 MB/s \n",
            "\u001b[?25hCollecting trio-websocket~=0.9\n",
            "  Downloading trio_websocket-0.9.2-py3-none-any.whl (16 kB)\n",
            "Collecting urllib3[secure]~=1.26\n",
            "  Downloading urllib3-1.26.11-py2.py3-none-any.whl (139 kB)\n",
            "\u001b[K     |████████████████████████████████| 139 kB 35.0 MB/s \n",
            "\u001b[?25hRequirement already satisfied: attrs>=19.2.0 in /usr/local/lib/python3.7/dist-packages (from trio~=0.17->selenium==4.0.0) (21.4.0)\n",
            "Collecting async-generator>=1.9\n",
            "  Downloading async_generator-1.10-py3-none-any.whl (18 kB)\n",
            "Collecting sniffio\n",
            "  Downloading sniffio-1.2.0-py3-none-any.whl (10 kB)\n",
            "Requirement already satisfied: sortedcontainers in /usr/local/lib/python3.7/dist-packages (from trio~=0.17->selenium==4.0.0) (2.4.0)\n",
            "Collecting outcome\n",
            "  Downloading outcome-1.2.0-py2.py3-none-any.whl (9.7 kB)\n",
            "Requirement already satisfied: idna in /usr/local/lib/python3.7/dist-packages (from trio~=0.17->selenium==4.0.0) (2.10)\n",
            "Collecting wsproto>=0.14\n",
            "  Downloading wsproto-1.1.0-py3-none-any.whl (24 kB)\n",
            "Requirement already satisfied: certifi in /usr/local/lib/python3.7/dist-packages (from urllib3[secure]~=1.26->selenium==4.0.0) (2022.6.15)\n",
            "Collecting cryptography>=1.3.4\n",
            "  Downloading cryptography-37.0.4-cp36-abi3-manylinux_2_24_x86_64.whl (4.1 MB)\n",
            "\u001b[K     |████████████████████████████████| 4.1 MB 52.3 MB/s \n",
            "\u001b[?25hCollecting pyOpenSSL>=0.14\n",
            "  Downloading pyOpenSSL-22.0.0-py2.py3-none-any.whl (55 kB)\n",
            "\u001b[K     |████████████████████████████████| 55 kB 4.2 MB/s \n",
            "\u001b[?25hRequirement already satisfied: cffi>=1.12 in /usr/local/lib/python3.7/dist-packages (from cryptography>=1.3.4->urllib3[secure]~=1.26->selenium==4.0.0) (1.15.1)\n",
            "Requirement already satisfied: pycparser in /usr/local/lib/python3.7/dist-packages (from cffi>=1.12->cryptography>=1.3.4->urllib3[secure]~=1.26->selenium==4.0.0) (2.21)\n",
            "Collecting h11<1,>=0.9.0\n",
            "  Downloading h11-0.13.0-py3-none-any.whl (58 kB)\n",
            "\u001b[K     |████████████████████████████████| 58 kB 6.6 MB/s \n",
            "\u001b[?25hRequirement already satisfied: typing-extensions in /usr/local/lib/python3.7/dist-packages (from h11<1,>=0.9.0->wsproto>=0.14->trio-websocket~=0.9->selenium==4.0.0) (4.1.1)\n",
            "Installing collected packages: sniffio, outcome, h11, cryptography, async-generator, wsproto, urllib3, trio, pyOpenSSL, trio-websocket, selenium\n",
            "  Attempting uninstall: urllib3\n",
            "    Found existing installation: urllib3 1.24.3\n",
            "    Uninstalling urllib3-1.24.3:\n",
            "      Successfully uninstalled urllib3-1.24.3\n",
            "\u001b[31mERROR: pip's dependency resolver does not currently take into account all the packages that are installed. This behaviour is the source of the following dependency conflicts.\n",
            "requests 2.23.0 requires urllib3!=1.25.0,!=1.25.1,<1.26,>=1.21.1, but you have urllib3 1.26.11 which is incompatible.\n",
            "datascience 0.10.6 requires folium==0.2.1, but you have folium 0.8.3 which is incompatible.\u001b[0m\n",
            "Successfully installed async-generator-1.10 cryptography-37.0.4 h11-0.13.0 outcome-1.2.0 pyOpenSSL-22.0.0 selenium-4.0.0 sniffio-1.2.0 trio-0.21.0 trio-websocket-0.9.2 urllib3-1.26.11 wsproto-1.1.0\n",
            "Get:1 http://security.ubuntu.com/ubuntu bionic-security InRelease [88.7 kB]\n",
            "Get:2 https://cloud.r-project.org/bin/linux/ubuntu bionic-cran40/ InRelease [3,626 B]\n",
            "Hit:3 https://developer.download.nvidia.com/compute/cuda/repos/ubuntu1804/x86_64  InRelease\n",
            "Hit:4 http://archive.ubuntu.com/ubuntu bionic InRelease\n",
            "Get:5 http://archive.ubuntu.com/ubuntu bionic-updates InRelease [88.7 kB]\n",
            "Get:6 http://ppa.launchpad.net/c2d4u.team/c2d4u4.0+/ubuntu bionic InRelease [15.9 kB]\n",
            "Get:7 http://archive.ubuntu.com/ubuntu bionic-backports InRelease [74.6 kB]\n",
            "Ign:8 https://developer.download.nvidia.com/compute/machine-learning/repos/ubuntu1804/x86_64  InRelease\n",
            "Hit:9 https://developer.download.nvidia.com/compute/machine-learning/repos/ubuntu1804/x86_64  Release\n",
            "Hit:10 http://ppa.launchpad.net/cran/libgit2/ubuntu bionic InRelease\n",
            "Get:11 https://cloud.r-project.org/bin/linux/ubuntu bionic-cran40/ Packages [87.8 kB]\n",
            "Hit:12 http://ppa.launchpad.net/deadsnakes/ppa/ubuntu bionic InRelease\n",
            "Hit:13 http://ppa.launchpad.net/graphics-drivers/ppa/ubuntu bionic InRelease\n",
            "Get:14 http://security.ubuntu.com/ubuntu bionic-security/main amd64 Packages [2,905 kB]\n",
            "Get:15 http://security.ubuntu.com/ubuntu bionic-security/universe amd64 Packages [1,527 kB]\n",
            "Get:16 http://archive.ubuntu.com/ubuntu bionic-updates/universe amd64 Packages [2,306 kB]\n",
            "Get:17 http://archive.ubuntu.com/ubuntu bionic-updates/main amd64 Packages [3,336 kB]\n",
            "Get:18 http://ppa.launchpad.net/c2d4u.team/c2d4u4.0+/ubuntu bionic/main amd64 Packages [1,063 kB]\n",
            "Fetched 11.5 MB in 3s (3,297 kB/s)\n",
            "Reading package lists... Done\n",
            "Reading package lists... Done\n",
            "Building dependency tree       \n",
            "Reading state information... Done\n",
            "The following package was automatically installed and is no longer required:\n",
            "  libnvidia-common-460\n",
            "Use 'apt autoremove' to remove it.\n",
            "The following additional packages will be installed:\n",
            "  chromium-browser chromium-browser-l10n chromium-codecs-ffmpeg-extra\n",
            "Suggested packages:\n",
            "  webaccounts-chromium-extension unity-chromium-extension\n",
            "The following NEW packages will be installed:\n",
            "  chromium-browser chromium-browser-l10n chromium-chromedriver\n",
            "  chromium-codecs-ffmpeg-extra\n",
            "0 upgraded, 4 newly installed, 0 to remove and 55 not upgraded.\n",
            "Need to get 90.4 MB of archives.\n",
            "After this operation, 306 MB of additional disk space will be used.\n",
            "Get:1 http://archive.ubuntu.com/ubuntu bionic-updates/universe amd64 chromium-codecs-ffmpeg-extra amd64 103.0.5060.134-0ubuntu0.18.04.1 [1,160 kB]\n",
            "Get:2 http://archive.ubuntu.com/ubuntu bionic-updates/universe amd64 chromium-browser amd64 103.0.5060.134-0ubuntu0.18.04.1 [79.0 MB]\n",
            "Get:3 http://archive.ubuntu.com/ubuntu bionic-updates/universe amd64 chromium-browser-l10n all 103.0.5060.134-0ubuntu0.18.04.1 [5,043 kB]\n",
            "Get:4 http://archive.ubuntu.com/ubuntu bionic-updates/universe amd64 chromium-chromedriver amd64 103.0.5060.134-0ubuntu0.18.04.1 [5,202 kB]\n",
            "Fetched 90.4 MB in 2s (50.5 MB/s)\n",
            "Selecting previously unselected package chromium-codecs-ffmpeg-extra.\n",
            "(Reading database ... 155673 files and directories currently installed.)\n",
            "Preparing to unpack .../chromium-codecs-ffmpeg-extra_103.0.5060.134-0ubuntu0.18.04.1_amd64.deb ...\n",
            "Unpacking chromium-codecs-ffmpeg-extra (103.0.5060.134-0ubuntu0.18.04.1) ...\n",
            "Selecting previously unselected package chromium-browser.\n",
            "Preparing to unpack .../chromium-browser_103.0.5060.134-0ubuntu0.18.04.1_amd64.deb ...\n",
            "Unpacking chromium-browser (103.0.5060.134-0ubuntu0.18.04.1) ...\n",
            "Selecting previously unselected package chromium-browser-l10n.\n",
            "Preparing to unpack .../chromium-browser-l10n_103.0.5060.134-0ubuntu0.18.04.1_all.deb ...\n",
            "Unpacking chromium-browser-l10n (103.0.5060.134-0ubuntu0.18.04.1) ...\n",
            "Selecting previously unselected package chromium-chromedriver.\n",
            "Preparing to unpack .../chromium-chromedriver_103.0.5060.134-0ubuntu0.18.04.1_amd64.deb ...\n",
            "Unpacking chromium-chromedriver (103.0.5060.134-0ubuntu0.18.04.1) ...\n",
            "Setting up chromium-codecs-ffmpeg-extra (103.0.5060.134-0ubuntu0.18.04.1) ...\n",
            "Setting up chromium-browser (103.0.5060.134-0ubuntu0.18.04.1) ...\n",
            "update-alternatives: using /usr/bin/chromium-browser to provide /usr/bin/x-www-browser (x-www-browser) in auto mode\n",
            "update-alternatives: using /usr/bin/chromium-browser to provide /usr/bin/gnome-www-browser (gnome-www-browser) in auto mode\n",
            "Setting up chromium-chromedriver (103.0.5060.134-0ubuntu0.18.04.1) ...\n",
            "Setting up chromium-browser-l10n (103.0.5060.134-0ubuntu0.18.04.1) ...\n",
            "Processing triggers for man-db (2.8.3-2ubuntu0.1) ...\n",
            "Processing triggers for hicolor-icon-theme (0.17-2) ...\n",
            "Processing triggers for mime-support (3.60ubuntu1) ...\n",
            "Processing triggers for libc-bin (2.27-3ubuntu1.3) ...\n",
            "cp: '/usr/lib/chromium-browser/chromedriver' and '/usr/bin/chromedriver' are the same file\n"
          ]
        }
      ]
    },
    {
      "cell_type": "markdown",
      "source": [
        "- colab에서 selenium을 실행하기 위해서는 위의 4가지 코드를 작성해야한다. \n",
        "- 셀레니움 최신 버전 4.0.0으로 설치했다."
      ],
      "metadata": {
        "id": "vQnN4lh4Te9l"
      }
    },
    {
      "cell_type": "code",
      "execution_count": null,
      "metadata": {
        "id": "vGWrJxxMePyY"
      },
      "outputs": [],
      "source": [
        "import time\n",
        "\n",
        "#[1]\n",
        "from openpyxl import Workbook #크롤링한 댓글 저장\n",
        "import pandas as pd #크롤링한 댓글 저장\n",
        "\n",
        "#[2]\n",
        "from selenium import webdriver #댓글크롤링\n",
        "from selenium.webdriver.common.keys import Keys #댓글크롤링\n",
        "from bs4 import BeautifulSoup #댓글크롤링\n",
        "\n",
        "#[3]\n",
        "from urllib.request import urlopen #stiring이나 Request 객체인 URL 오픈\n",
        "from urllib.parse import quote_plus #한글깨짐 현상 방지\n",
        "\n",
        "#[4]\n",
        "import warnings\n",
        "warnings.filterwarnings('ignore')"
      ]
    },
    {
      "cell_type": "markdown",
      "source": [
        "- 유튜브 댓글 크롤링을 하기 위해 selenium과 BeautifulSoup를 사용했다. \n",
        "\n",
        "- 크롤링 한 댓글을 엑셀 파일에 저장하기 위해서 openpyxl과 pandas를 사용했다. "
      ],
      "metadata": {
        "id": "VCOLwMZIxEl9"
      }
    },
    {
      "cell_type": "markdown",
      "source": [
        "**2. colab에서 웹브라우저 창 생성되지 않으므로 별도의 옵션 설정**"
      ],
      "metadata": {
        "id": "mdnJFpMNt4VD"
      }
    },
    {
      "cell_type": "code",
      "source": [
        "#Colab에선 웹브라우저 창이 뜨지 않으므로 별도 설정한다.\n",
        "\n",
        "options = webdriver.ChromeOptions()\n",
        "options.add_argument('--headless')        # Head-less 설정\n",
        "options.add_argument('--no-sandbox')\n",
        "options.add_argument('--disable-dev-shm-usage')\n",
        "driver = webdriver.Chrome('chromedriver', options=options)"
      ],
      "metadata": {
        "id": "pP_LIdOLsLdF"
      },
      "execution_count": null,
      "outputs": []
    },
    {
      "cell_type": "markdown",
      "source": [
        "- [headless]\n",
        "별도의 GUI 창이 뜨지 않고 사이트에 접속해서 페이지를 받는등의 작업을 실행할 수 있다.\n",
        "\n",
        "- [no-sandbox]\n",
        "chrome의 sandbox는 멀웨어(악성 소프트웨어)를 방지하기 위해 사용된다. no-sandbox로 설정해 이런 기능을 off했다.\n",
        "\n",
        "- [--disable-dev-shm-usage]\n",
        "dev/shm 디렉토리를 사용하지 않는다. 이 디렉토리는 공유 메모리를 담당한다. 즉, 모든 사용자가 읽고 쓰지 못하도록 제한했다."
      ],
      "metadata": {
        "id": "jl1ZPFh9VsuK"
      }
    },
    {
      "cell_type": "markdown",
      "source": [
        "**3. 크롤링할 유튜브 불러오기**"
      ],
      "metadata": {
        "id": "_Sni5hbMgJ9X"
      }
    },
    {
      "cell_type": "code",
      "source": [
        "wb = Workbook(write_only=True)\n",
        "ws = wb.create_sheet() #댓글 저장할 빈 엑셀파일 생성\n",
        "\n",
        "\n",
        "url = \"https://bit.ly/3JjNkzt\" #해당 url로 이동\n",
        "driver.get(url)\n",
        "driver.implicitly_wait(3)\n",
        "\n",
        "time.sleep(1.5)\n",
        "\n",
        "driver.execute_script(\"window.scrollTo(0,800)\")\n",
        "time.sleep(3)"
      ],
      "metadata": {
        "id": "yN8NmZ1-gIL8"
      },
      "execution_count": null,
      "outputs": []
    },
    {
      "cell_type": "markdown",
      "source": [
        "**4. 웹페이지 끝까지 스크롤하기(무한 스크롤)**"
      ],
      "metadata": {
        "id": "b9jhDnjStltq"
      }
    },
    {
      "cell_type": "code",
      "source": [
        "last_height = driver.execute_script(\"return document.documentElement.scrollHeight\") #마지막 시점의 창 높이 저장\n",
        "\n",
        "while True:\n",
        "    driver.execute_script(\"window.scrollTo(0, document.documentElement.scrollHeight);\") #창 높이까지 스크롤\n",
        "    time.sleep(1.5) #스크롤 후 창이 로딩될 때까지 1.5초 기다리겠다는 명령어\n",
        "\n",
        "    new_height = driver.execute_script(\"return document.documentElement.scrollHeight\") #스크롤이 된 후의 창 높이를 새로운 높이로 저장\n",
        "    if new_height == last_height: #새로운 높이가 이전 높이와 변하지 않았으면 스크롤 종료\n",
        "        break\n",
        "    last_height = new_height\n",
        "\n",
        "time.sleep(1.5)"
      ],
      "metadata": {
        "id": "8b0JkOkwqUm8"
      },
      "execution_count": null,
      "outputs": []
    },
    {
      "cell_type": "markdown",
      "source": [
        "- 유튜브 영상 내 등록된 모든 댓글을 노출되게 만들기 위해 페이지를 끝까지 스크롤 될 수 있도록 한다."
      ],
      "metadata": {
        "id": "hcPJKLOiyANT"
      }
    },
    {
      "cell_type": "markdown",
      "source": [
        "**5. 유튜브 팝업 닫기**"
      ],
      "metadata": {
        "id": "6mkQAMWVyU3b"
      }
    },
    {
      "cell_type": "code",
      "source": [
        "from selenium.webdriver.common.by import By\n",
        "\n",
        "try:\n",
        " driver.find_elements(By.CSS_SELECTOR,\"dismiss-button > a\").click()\n",
        "except:\n",
        "  pass  "
      ],
      "metadata": {
        "id": "fTEXCf80vJRg"
      },
      "execution_count": null,
      "outputs": []
    },
    {
      "cell_type": "markdown",
      "source": [
        "- 유튜브 프리미엄 사용을 유도하는 팝업창을 닫아준다.\n",
        "\n",
        "- 이 팝업창을 닫아주지 않으면 추후 댓글을 가져오는데 방해가 될 수 있어 꼭 닫아주는 것이 좋다. \n",
        "\n",
        "\n",
        "- [from selenium.webdriver.common.by import By]\n",
        "셀레니움 버전 4로 업데이트 됨에 따라 이 라이브러리를 추가하였다."
      ],
      "metadata": {
        "id": "snO0yK8nygDn"
      }
    },
    {
      "cell_type": "markdown",
      "source": [
        "**6. 대댓글 버튼 누르기**"
      ],
      "metadata": {
        "id": "qK24GKVBy6YS"
      }
    },
    {
      "cell_type": "code",
      "source": [
        "buttons = driver.find_elements(By.CSS_SELECTOR,\"dismiss-button > a\")\n",
        "\n",
        "time.sleep(1.5)\n",
        "\n",
        "for button in buttons:\n",
        "  button.send_keys(Keys.ENTER)\n",
        "  time.sleep(1.5)\n",
        "  button.click()"
      ],
      "metadata": {
        "id": "8KH8c1Aay93j"
      },
      "execution_count": null,
      "outputs": []
    },
    {
      "cell_type": "markdown",
      "source": [
        "- 유튜브 댓글은 댓글 뿐만 아니라 대댓글까지 존재한다. 일반적으로 토글 형태로 저장되어 있어서 이 토글 버튼을 모두 눌러줘야 모든 댓글을 불러올 수 있다.\n",
        "\n",
        "- 처음에 driver.find_element_by_css_selector 함수로 작성했었는데 오류가 났다. 찾아보니 셀레니움 버전이 4로 업데이트 되어 이에 따라 사용하는 함수명이 변경되었다. 따라서 셀레니움 버전을 4.0.0 으로 설치해주었고, 함수명도 \"driver.find_elements\"로 변경해주었다."
      ],
      "metadata": {
        "id": "yaPwn4Q167x4"
      }
    },
    {
      "cell_type": "markdown",
      "source": [
        "**7. 댓글 가져오기**"
      ],
      "metadata": {
        "id": "h0p73Uf47j9e"
      }
    },
    {
      "cell_type": "code",
      "source": [
        "html_source = driver.page_source  \n",
        "soup = BeautifulSoup(html_source, 'html.parser')\n",
        "\n",
        "id_list = soup.select(\"div#header-author > h3 > #author-text > span\")\n",
        "comment_list = soup.select(\"yt-formatted-string#content-text\")\n",
        "\n",
        "id_final = []\n",
        "comment_final = []\n",
        "\n",
        "for i in range(len(comment_list)):\n",
        "    temp_id = id_list[i].text\n",
        "    temp_id = temp_id.replace('\\n', '') #줄바꿈\n",
        "    temp_id = temp_id.replace('\\t', '') #tab\n",
        "    temp_id = temp_id.replace('    ', '')\n",
        "    id_final.append(temp_id) # 댓글 작성자\n",
        "\n",
        "    temp_comment = comment_list[i].text\n",
        "    temp_comment = temp_comment.replace('\\n', '')\n",
        "    temp_comment = temp_comment.replace('\\t', '')\n",
        "    temp_comment = temp_comment.replace('    ', '')\n",
        "    comment_final.append(temp_comment) # 댓글 내용"
      ],
      "metadata": {
        "id": "Q2KFqcSZzkGO"
      },
      "execution_count": null,
      "outputs": []
    },
    {
      "cell_type": "markdown",
      "source": [
        "- 유튜브 댓글을 작성한 사람의 아이디와, 작성한 댓글 내용 2가지로 구분하여 가져온다. \n",
        "\n",
        "- parser : Compiler나 Interpreter에서 원시 프로그램을 읽어 들여 그 문장의 구조를 알아내는 구문분석(parsing)을 행하는 프로그램 "
      ],
      "metadata": {
        "id": "x7-vPYsx7ub-"
      }
    },
    {
      "cell_type": "markdown",
      "source": [
        "**8. 댓글 저장하기**"
      ],
      "metadata": {
        "id": "F3gES3R0-O_l"
      }
    },
    {
      "cell_type": "code",
      "source": [
        "pd_data = {\"아이디\" : id_final , \"댓글 내용\" : comment_final}\n",
        "youtube_pd = pd.DataFrame(pd_data)\n",
        "\n",
        "youtube_pd.to_excel('힙으뜸_220724.xlsx')\n",
        "\n",
        "pd_data = './gdrive/My Drive/Colab Notebooks/crawling/'"
      ],
      "metadata": {
        "id": "h22eM5KE-RQU"
      },
      "execution_count": null,
      "outputs": []
    },
    {
      "cell_type": "markdown",
      "source": [
        "- 판다스를 사용해 추출한 유튜브 댓글 아이디와 댓글 내용을 데이터프레임 형태로 저장한다.\n",
        "\n",
        "- 저장한 데이터프레임을 엑셀 파일로 저장해주면 유튜브 댓글 크롤링 작업이 완료된다."
      ],
      "metadata": {
        "id": "mJic2vLb0fEM"
      }
    }
  ]
}